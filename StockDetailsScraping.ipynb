{
 "cells": [
  {
   "cell_type": "code",
   "execution_count": 66,
   "metadata": {},
   "outputs": [
    {
     "name": "stdout",
     "output_type": "stream",
     "text": [
      "Index(['% Change', 'Adj Close**', 'Ask', 'Bid', 'Change', 'Close*',\n",
      "       'Contract Name', 'Date', 'High', 'Implied Volatility', 'Last Price',\n",
      "       'Last Trade Date', 'Low', 'Open', 'Open Interest', 'Strike', 'Volume'],\n",
      "      dtype='object')\n",
      "143\n"
     ]
    }
   ],
   "source": [
    "import requests\n",
    "import pandas as pd\n",
    "from bs4 import BeautifulSoup\n",
    "\n",
    "\n",
    "\n",
    "def get_table_data(url):\n",
    "\n",
    "    response = requests.get(url)\n",
    "    soup = BeautifulSoup(response.text, 'lxml')\n",
    "    cols = []\n",
    "    rows = []\n",
    "    for table in soup.find_all('table'):\n",
    "        for row in table.find_all('tr'):\n",
    "            rw = []\n",
    "            th_tags = row.find_all('th')\n",
    "            td_tags = row.find_all('td')\n",
    "            for th in th_tags:\n",
    "                cols.append(th.text)\n",
    "\n",
    "#             print('th : ',cols)\n",
    "            for td in td_tags:\n",
    "                rw.append(td.text)\n",
    "            if len(rw) == len(cols):\n",
    "                rows.append(rw)\n",
    "    #             print('td : ', rw)        \n",
    "        break\n",
    "\n",
    "    df = pd.DataFrame(rows, columns = cols)\n",
    "    return df\n",
    "\n",
    "\n",
    "url1 = 'https://finance.yahoo.com/quote/EXPE/history?p=EXPE'\n",
    "df1 = get_table_data(url1)\n",
    "url2 = 'https://finance.yahoo.com/quote/EXPE/options?p=EXPE'\n",
    "df2= get_table_data(url2)\n",
    "merged_df  = pd.concat([df1,df2], axis=0, ignore_index=True)\n",
    "# print(df1.columns)\n",
    "# print(df2.columns)\n",
    "print(merged_df.columns)\n",
    "print(len(merged_df))\n",
    "merged_df.fillna(0, inplace=True)\n",
    "        "
   ]
  },
  {
   "cell_type": "code",
   "execution_count": 77,
   "metadata": {
    "collapsed": true
   },
   "outputs": [],
   "source": [
    "from bokeh.plotting import figure, output_file, show\n",
    "\n",
    "\n",
    "# # prepare some data\n",
    "x = [i for i in range(len(merged_df))]\n",
    "# print(x)\n",
    "y_high = [float(i) for i in merged_df['High']]\n",
    "y_low = [float(i) for i in merged_df['Low']]\n",
    "# print(y_low)\n",
    "# print(y_high)\n",
    "\n",
    "output_file(\"lines.html\")\n",
    "\n",
    "p = figure(title=\"% Change\", x_axis_label='x', y_axis_label='y')\n",
    "p.line(x, y_high, legend=\"High.\", line_width=2, line_color=\"red\")\n",
    "p.line(x, y_low, legend=\"Low.\", line_width=2, line_color=\"blue\")\n",
    "\n",
    "# show the results\n",
    "show(p)\n"
   ]
  },
  {
   "cell_type": "code",
   "execution_count": null,
   "metadata": {
    "collapsed": true
   },
   "outputs": [],
   "source": []
  }
 ],
 "metadata": {
  "kernelspec": {
   "display_name": "Python 3",
   "language": "python",
   "name": "python3"
  },
  "language_info": {
   "codemirror_mode": {
    "name": "ipython",
    "version": 3
   },
   "file_extension": ".py",
   "mimetype": "text/x-python",
   "name": "python",
   "nbconvert_exporter": "python",
   "pygments_lexer": "ipython3",
   "version": "3.6.3"
  }
 },
 "nbformat": 4,
 "nbformat_minor": 2
}
